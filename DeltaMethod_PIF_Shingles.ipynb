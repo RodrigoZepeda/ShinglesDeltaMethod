{
  "nbformat": 4,
  "nbformat_minor": 0,
  "metadata": {
    "colab": {
      "provenance": [],
      "authorship_tag": "ABX9TyNBWT3zP8sVec/rM6fAuyqi",
      "include_colab_link": true
    },
    "kernelspec": {
      "name": "python3",
      "display_name": "Python 3"
    },
    "language_info": {
      "name": "python"
    }
  },
  "cells": [
    {
      "cell_type": "markdown",
      "metadata": {
        "id": "view-in-github",
        "colab_type": "text"
      },
      "source": [
        "<a href=\"https://colab.research.google.com/github/RodrigoZepeda/ShinglesDeltaMethod/blob/main/DeltaMethod_PIF_Shingles.ipynb\" target=\"_parent\"><img src=\"https://colab.research.google.com/assets/colab-badge.svg\" alt=\"Open In Colab\"/></a>"
      ]
    },
    {
      "cell_type": "markdown",
      "source": [
        "# Delta Method for Potential Impact Fraction\n",
        "\n",
        "The following code contains the calculation necesary for estimating the variance of the potential impact fraction (PIF) with binary relative risks. It assumes the variance of the log relative risk is known as well as the variance of the proportion of individuals exposed."
      ],
      "metadata": {
        "id": "90SnvdP5X1XI"
      }
    },
    {
      "cell_type": "code",
      "execution_count": 1,
      "metadata": {
        "id": "_R-9-vOeXwtO"
      },
      "outputs": [],
      "source": [
        "%pip install --quiet \"session_info\""
      ]
    },
    {
      "cell_type": "markdown",
      "source": [
        "## Problem definition\n",
        "\n",
        "Let $p$ denote the probability of being exposed. Let $RR$ denote the relative risk of the exposure and $\\ell = \\ln RR$ the logarithm of that relative risk (no exposure has relative risk $=1$). Define:\n",
        "\\begin{equation}\n",
        "\\begin{aligned}\n",
        "\\mu^{\\textrm{obs}} & = p\\cdot \\exp \\big(\\ln (RR)\\big) + (1 - p)\\cdot 1 = 1 + p\\cdot (\\exp(\\ell) - 1)\\\\\n",
        "\\mu^{\\textrm{cft}} & = 1 + p_* \\cdot (\\exp(\\ell) - 1)\\\\\n",
        "\\end{aligned}\n",
        "\\end{equation}\n",
        "Define the potential impact fraction as:\n",
        "\\begin{equation}\n",
        "\\text{PIF} = \\dfrac{\\mu^{\\textrm{obs}}  - \\mu^{\\textrm{cft}}}{\\mu^{\\textrm{obs}}} = 1 - \\dfrac{\\mu^{\\textrm{cft}}}{\\mu^{\\textrm{obs}}}\n",
        "\\end{equation}\n",
        "\n",
        "For our scenarios we will only consider counterfactuals that **reduce** the relative risk, hence:\n",
        "$$\n",
        "0 <  \\mu_{cft} \\leq \\mu_{obs}.\n",
        "$$\n",
        "\n",
        "Finally consider $\\hat{p}$ an estimator of $p$ with variance $\\sigma_{\\hat{p}}^2$ and $\\widehat{\\text{RR}}$ an estimate of $\\text{RR}$. Assume the variance that is known is for $\\hat{\\ell} = \\widehat{\\log \\text{RR}}$ and given by $\\sigma^2_{\\ell}$. The plug-in estimator of the potential impact fraction, $\\widehat{\\text{PIF}}$, is:\n",
        "\\begin{equation}\n",
        "\\widehat{\\text{PIF}} = 1 - \\dfrac{\\hat{\\mu}^{\\textrm{cft}}}{\\hat{\\mu}^{\\textrm{obs}}}\n",
        "\\end{equation}\n",
        "with\n",
        "\\begin{equation}\n",
        "\\begin{aligned}\n",
        "\\hat{\\mu}^{\\textrm{obs}} & = 1 + \\hat{p}\\cdot \\big(\\exp(\\widehat{\\ell}) - 1\\big)\\\\\n",
        "\\hat{\\mu}^{\\textrm{cft}} & = 1 + p_* \\cdot \\big(\\exp(\\widehat{\\ell}) - 1\\big)\\\\\n",
        "\\end{aligned}\n",
        "\\end{equation}\n",
        "\n",
        "The following Python code helps set up the expressions"
      ],
      "metadata": {
        "id": "AoGdA6gmYaUm"
      }
    },
    {
      "cell_type": "code",
      "source": [
        "#We'll use the sympy library for symbolic computation of variances and expected values\n",
        "import sympy\n",
        "from sympy import *\n",
        "from sympy.stats import Variance, Expectation, Covariance\n",
        "from sympy.stats.rv import RandomSymbol\n",
        "from sympy import exp\n",
        "from scipy.stats import norm\n",
        "import session_info\n",
        "import numpy as np\n",
        "\n",
        "print(sympy.__version__)   #version of sympy should be >=1.10\n",
        "\n",
        "#Create the constants\n",
        "p = Symbol('p', real=True, positive=True)            #Proportion exposed\n",
        "p_star = Symbol('p_star', real=True, positive=True)  #Proportion exposed under counterfactual\n",
        "L = Symbol('L', real=True, positive=True)            #Log Relative risk of exposed (i.e. relative risk = exp(L))\n",
        "\n",
        "#Create the random symbols for RR and p hat\n",
        "p_hat = RandomSymbol('p_hat')             #Estimate of p\n",
        "L_hat = RandomSymbol('L_hat')             #Estimate of log(RR)\n",
        "\n",
        "sigma_p = Symbol('sigma_p^2', real=True, positive=True) #Variance of p_hat\n",
        "sigma_l = Symbol('sigma_l^2', real=True, positive=True) #Variance of log(RR_hat)"
      ],
      "metadata": {
        "colab": {
          "base_uri": "https://localhost:8080/"
        },
        "id": "Am8TzvKucLSY",
        "outputId": "78e4a60d-32d0-4050-9e6e-1ddc9abc342b"
      },
      "execution_count": 2,
      "outputs": [
        {
          "output_type": "stream",
          "name": "stdout",
          "text": [
            "1.13.1\n"
          ]
        }
      ]
    },
    {
      "cell_type": "markdown",
      "source": [
        "## Delta method estimation\n",
        "\n",
        "Here we construct a function that applies the delta method to any function of the potential impact fraction"
      ],
      "metadata": {
        "id": "E-p73g7fcMNF"
      }
    },
    {
      "cell_type": "code",
      "source": [
        "#Potential impact fraction definition\n",
        "def pif(L, p, p_star, sigma_p, sigma_l):\n",
        "  mu_cft = 1 + p_star*(sympy.exp(L) - 1)\n",
        "  mu_obs = 1 + p*(sympy.exp(L) - 1)\n",
        "  return 1 - mu_cft/mu_obs\n",
        "\n",
        "#Replace Cov(1, X) = 0, Cov(1, 1) = 0.0 and Var(X + constant) = Var(X)\n",
        "def simplify_covariance(expr):\n",
        "    expr = expr.subs(\n",
        "        Covariance(1, p_hat), 0\n",
        "    ).subs(\n",
        "        Covariance(1, L_hat), 0\n",
        "    ).subs(\n",
        "        Covariance(1, 1), 0\n",
        "    ).subs(\n",
        "        Variance(-p + p_hat), Variance(p_hat)\n",
        "    ).subs(\n",
        "        Variance(-L + L_hat), Variance(L_hat)\n",
        "    )\n",
        "    return expr\n",
        "\n",
        "#Replace Var(X) = sigma_X and Cov(X,Y) = 0 as p and L are independent\n",
        "def expand_variance(expr):\n",
        "    expr = expr.subs(\n",
        "        Variance(p_hat), sigma_p\n",
        "    ).subs(\n",
        "        Variance(L_hat), sigma_l\n",
        "    ).subs(\n",
        "        Covariance(p_hat, L_hat), 0.0\n",
        "    )\n",
        "    return expr\n",
        "\n",
        "\n",
        "def delta_method(pif_function, substitute_mu=False):\n",
        "  \"\"\"\n",
        "  Function that applies the delta method to a function of pif\n",
        "\n",
        "  The pif function should have at least two variables: p and L\n",
        "  corresponding to the proportion infected and the log relative risk\n",
        "  \"\"\"\n",
        "\n",
        "  #Obtain the direction vector\n",
        "  v = Matrix([L_hat - L, p_hat - p])\n",
        "\n",
        "  #And calculate the gradient\n",
        "  grad = derive_by_array(pif_function(L, p, p_star, sigma_p, sigma_l), [L, p])\n",
        "  grad = Matrix(grad)\n",
        "\n",
        "  #Thus calculating the Hadamard (directional) derivative:\n",
        "  gradient_directed = grad.dot(v)\n",
        "\n",
        "  fun_variance = Variance(gradient_directed).expand().simplify()\n",
        "\n",
        "  #Simplify the variance\n",
        "  fun_variance = simplify_covariance(fun_variance)\n",
        "\n",
        "  #Expand my substituting the sigmas\n",
        "  fun_variance = expand_variance(fun_variance)\n",
        "\n",
        "  #Simplify the denominator\n",
        "  fun_variance = fun_variance.replace(\n",
        "    fraction(fun_variance)[1],fraction(fun_variance)[1].simplify()\n",
        "  )\n",
        "\n",
        "  return fun_variance.simplify()\n"
      ],
      "metadata": {
        "id": "dwFuInIFdYYH"
      },
      "execution_count": 3,
      "outputs": []
    },
    {
      "cell_type": "markdown",
      "source": [
        "# Estimation of the delta method\n",
        "\n",
        "After applying the above functions we obtain that an approximation of the variance is given by:"
      ],
      "metadata": {
        "id": "Z-BvRlaSHdz4"
      }
    },
    {
      "cell_type": "code",
      "source": [
        "simplified_pif = delta_method(pif, False)\n",
        "display(simplified_pif)"
      ],
      "metadata": {
        "colab": {
          "base_uri": "https://localhost:8080/",
          "height": 67
        },
        "id": "DB_txqjDHwIz",
        "outputId": "a5842cc7-5c9c-46ad-8411-5143e75852da"
      },
      "execution_count": 4,
      "outputs": [
        {
          "output_type": "display_data",
          "data": {
            "text/plain": [
              "sigma_l^2*(-p + p_star)**2*exp(2*L)/(-p*exp(L) + p - 1)**4 + sigma_p^2*(1 - exp(L))**2*(-p_star*exp(L) + p_star - 1)**2/(-p*exp(L) + p - 1)**4"
            ],
            "text/latex": "$\\displaystyle \\frac{\\sigma^{2}_{l} \\left(- p + p_{star}\\right)^{2} e^{2 L}}{\\left(- p e^{L} + p - 1\\right)^{4}} + \\frac{\\sigma^{2}_{p} \\left(1 - e^{L}\\right)^{2} \\left(- p_{star} e^{L} + p_{star} - 1\\right)^{2}}{\\left(- p e^{L} + p - 1\\right)^{4}}$"
          },
          "metadata": {}
        }
      ]
    },
    {
      "cell_type": "code",
      "source": [
        "#Transform the previous results to function\n",
        "fun_dm_pif = lambdify([L, p, p_star, sigma_p, sigma_l], simplified_pif)"
      ],
      "metadata": {
        "id": "C1AQphJLXQF2"
      },
      "execution_count": 5,
      "outputs": []
    },
    {
      "cell_type": "code",
      "source": [
        "#Calculate a specific PIF\n",
        "def pif_calculator(L, p, p_star, sigma_p, sigma_l):\n",
        "  pif_value = pif(L, p, p_star, sigma_p, sigma_l)\n",
        "  variance = fun_dm_pif(L, p, p_star, sigma_p, sigma_l)\n",
        "  confint = norm.ppf(0.975)*sqrt(variance)\n",
        "  return 100*pif_value, 100*np.array((pif_value - confint, pif_value + confint))\n",
        "\n",
        "#Get SE^2 from confidence intervals\n",
        "def get_var(UCL_RR, LCL_RR):\n",
        "  return pow((log(UCL_RR) - log(LCL_RR)) / (2 * norm.ppf(0.975)),2)"
      ],
      "metadata": {
        "id": "AQsX30dZNaqN"
      },
      "execution_count": 8,
      "outputs": []
    },
    {
      "cell_type": "code",
      "source": [
        "#Global values\n",
        "pval    = 0.438\n",
        "sigma_p_val = pow(0.0184,2)\n",
        "\n",
        "#1) WU PIF\n",
        "print(\"WU PIF--------------------------------\")\n",
        "UCL_RR  = 0.72\n",
        "LCL_RR  = 0.67\n",
        "RR_val  = 0.69\n",
        "sigma_l_val = get_var(UCL_RR, LCL_RR)\n",
        "for val in [1.15, 1.30, 1.60]:\n",
        "  pif_val = pif_calculator(np.log(RR_val), pval, val*pval, sigma_p_val, sigma_l_val)\n",
        "  display(f\"[{100*(val - 1):.0f}%] {pif_val[0]:.2f}% [{pif_val[1][0]:.2f}%, {pif_val[1][1]:.2f}%]\")\n",
        "\n",
        "print(\"Shah-PIF--------------------------------\")\n",
        "UCL_RR  = 0.96\n",
        "LCL_RR  = 0.60\n",
        "RR_val  = 0.76\n",
        "sigma_l_val = get_var(UCL_RR, LCL_RR)\n",
        "for val in [1.15, 1.30, 1.60]:\n",
        "  pif_val = pif_calculator(np.log(RR_val), pval, val*pval, sigma_p_val, sigma_l_val)\n",
        "  display(f\"[{100*(val - 1):.0f}%] {pif_val[0]:.2f}% [{pif_val[1][0]:.2f}%, {pif_val[1][1]:.2f}%]\")\n"
      ],
      "metadata": {
        "colab": {
          "base_uri": "https://localhost:8080/",
          "height": 167
        },
        "id": "pFI-tqr9Qx4l",
        "outputId": "5b58ba43-d976-4874-9143-64f626fe6c6c"
      },
      "execution_count": 18,
      "outputs": [
        {
          "output_type": "stream",
          "name": "stdout",
          "text": [
            "WU PIF--------------------------------\n"
          ]
        },
        {
          "output_type": "display_data",
          "data": {
            "text/plain": [
              "'[15%] 2.36% [1.07%, 3.64%]'"
            ],
            "application/vnd.google.colaboratory.intrinsic+json": {
              "type": "string"
            }
          },
          "metadata": {}
        },
        {
          "output_type": "display_data",
          "data": {
            "text/plain": [
              "'[30%] 4.71% [3.41%, 6.02%]'"
            ],
            "application/vnd.google.colaboratory.intrinsic+json": {
              "type": "string"
            }
          },
          "metadata": {}
        },
        {
          "output_type": "display_data",
          "data": {
            "text/plain": [
              "'[60%] 9.43% [7.97%, 10.89%]'"
            ],
            "application/vnd.google.colaboratory.intrinsic+json": {
              "type": "string"
            }
          },
          "metadata": {}
        },
        {
          "output_type": "stream",
          "name": "stdout",
          "text": [
            "Shah-PIF--------------------------------\n"
          ]
        },
        {
          "output_type": "display_data",
          "data": {
            "text/plain": [
              "'[15%] 1.76% [0.02%, 3.51%]'"
            ],
            "application/vnd.google.colaboratory.intrinsic+json": {
              "type": "string"
            }
          },
          "metadata": {}
        },
        {
          "output_type": "display_data",
          "data": {
            "text/plain": [
              "'[30%] 3.52% [0.45%, 6.60%]'"
            ],
            "application/vnd.google.colaboratory.intrinsic+json": {
              "type": "string"
            }
          },
          "metadata": {}
        },
        {
          "output_type": "display_data",
          "data": {
            "text/plain": [
              "'[60%] 7.05% [1.12%, 12.98%]'"
            ],
            "application/vnd.google.colaboratory.intrinsic+json": {
              "type": "string"
            }
          },
          "metadata": {}
        }
      ]
    },
    {
      "cell_type": "markdown",
      "source": [
        "#Reproducibility"
      ],
      "metadata": {
        "id": "WkFwaVRserx-"
      }
    },
    {
      "cell_type": "code",
      "source": [
        "session_info.show()"
      ],
      "metadata": {
        "id": "bkF7un59etj1",
        "colab": {
          "base_uri": "https://localhost:8080/",
          "height": 333
        },
        "outputId": "74e6bd50-eeed-415d-dfe4-4c497b48fee2"
      },
      "execution_count": 16,
      "outputs": [
        {
          "output_type": "execute_result",
          "data": {
            "text/plain": [
              "<IPython.core.display.HTML object>"
            ],
            "text/html": [
              "<details>\n",
              "<summary>Click to view session information</summary>\n",
              "<pre>\n",
              "-----\n",
              "numpy               2.0.2\n",
              "scipy               1.16.0\n",
              "session_info        v1.0.1\n",
              "sympy               1.13.1\n",
              "-----\n",
              "</pre>\n",
              "<details>\n",
              "<summary>Click to view modules imported as dependencies</summary>\n",
              "<pre>\n",
              "Cython                      3.0.12\n",
              "PIL                         11.3.0\n",
              "backcall                    0.2.0\n",
              "certifi                     2025.07.14\n",
              "charset_normalizer          3.4.2\n",
              "cycler                      0.12.1\n",
              "cython                      3.0.12\n",
              "cython_runtime              NA\n",
              "dateutil                    2.9.0.post0\n",
              "debugpy                     1.8.15\n",
              "decorator                   4.4.2\n",
              "defusedxml                  0.7.1\n",
              "google                      NA\n",
              "httplib2                    0.22.0\n",
              "importlib_metadata          NA\n",
              "ipykernel                   6.17.1\n",
              "ipython_genutils            0.2.0\n",
              "kiwisolver                  1.4.8\n",
              "matplotlib                  3.10.0\n",
              "matplotlib_inline           0.1.7\n",
              "mpl_toolkits                NA\n",
              "mpmath                      1.3.0\n",
              "packaging                   25.0\n",
              "pexpect                     4.9.0\n",
              "pickleshare                 0.7.5\n",
              "platformdirs                4.3.8\n",
              "portpicker                  NA\n",
              "prompt_toolkit              3.0.51\n",
              "psutil                      5.9.5\n",
              "ptyprocess                  0.7.0\n",
              "pydev_ipython               NA\n",
              "pydevconsole                NA\n",
              "pydevd                      3.2.3\n",
              "pydevd_file_utils           NA\n",
              "pydevd_plugins              NA\n",
              "pydevd_tracing              NA\n",
              "pygments                    2.19.2\n",
              "pyparsing                   3.2.3\n",
              "rapids_dask_dependency      NA\n",
              "sitecustomize               NA\n",
              "six                         1.17.0\n",
              "socks                       1.7.1\n",
              "sphinxcontrib               NA\n",
              "storemagic                  NA\n",
              "tornado                     6.4.2\n",
              "traitlets                   5.7.1\n",
              "wcwidth                     0.2.13\n",
              "zipp                        NA\n",
              "zmq                         26.2.1\n",
              "</pre>\n",
              "</details> <!-- seems like this ends pre, so might as well be explicit -->\n",
              "<pre>\n",
              "-----\n",
              "IPython             7.34.0\n",
              "jupyter_client      6.1.12\n",
              "jupyter_core        5.8.1\n",
              "notebook            6.5.7\n",
              "-----\n",
              "Python 3.11.13 (main, Jun  4 2025, 08:57:29) [GCC 11.4.0]\n",
              "Linux-6.1.123+-x86_64-with-glibc2.35\n",
              "-----\n",
              "Session information updated at 2025-07-28 20:08\n",
              "</pre>\n",
              "</details>"
            ]
          },
          "metadata": {},
          "execution_count": 16
        }
      ]
    }
  ]
}